{
  "nbformat": 4,
  "nbformat_minor": 0,
  "metadata": {
    "colab": {
      "provenance": [],
      "include_colab_link": true
    },
    "kernelspec": {
      "name": "python3",
      "display_name": "Python 3"
    },
    "language_info": {
      "name": "python"
    }
  },
  "cells": [
    {
      "cell_type": "markdown",
      "metadata": {
        "id": "view-in-github",
        "colab_type": "text"
      },
      "source": [
        "<a href=\"https://colab.research.google.com/github/mjcordovasalvo/Proyecto_Python/blob/main/Imagenes.ipynb\" target=\"_parent\"><img src=\"https://colab.research.google.com/assets/colab-badge.svg\" alt=\"Open In Colab\"/></a>"
      ]
    },
    {
      "cell_type": "code",
      "execution_count": null,
      "metadata": {
        "id": "9jRcpesgmd3v"
      },
      "outputs": [],
      "source": [
        "from PIL import Image  # Importa la biblioteca PIL para trabajar con imágenes\n",
        "\n",
        "def main():\n",
        "    img = Image.open(\"in.jpeg\")  # Abre una imagen llamada 'in.jpeg'\n",
        "    img.close()  # Cierra la imagen después de abrirla\n",
        "\n",
        "main()  # Llama a la función principal"
      ]
    },
    {
      "cell_type": "code",
      "source": [
        "from PIL import Image  # Importa la biblioteca PIL para trabajar con imágenes\n",
        "\n",
        "def main():\n",
        "    img = Image.open(\"in.jpeg\")  # Abre una imagen llamada 'in.jpeg'\n",
        "    print(img.size)  # Imprime el tamaño de la imagen en píxeles (ancho, alto)\n",
        "    print(img.format)  # Imprime el formato de la imagen (JPEG, PNG, etc.)\n",
        "    img.close()  # Cierra la imagen después de usarla\n",
        "\n",
        "main()  # Llama a la función principal"
      ],
      "metadata": {
        "id": "DmuqGaBipF8T"
      },
      "execution_count": null,
      "outputs": []
    },
    {
      "cell_type": "code",
      "source": [
        "from PIL import Image  # Importa la biblioteca PIL para trabajar con imágenes\n",
        "\n",
        "def main():\n",
        "    with Image.open(\"in.jpeg\") as img:  # Abre la imagen usando un gestor de contexto\n",
        "        print(img.size)  # Imprime el tamaño de la imagen en píxeles\n",
        "        print(img.format)  # Imprime el formato de la imagen\n",
        "\n",
        "main()  # Llama a la función principal"
      ],
      "metadata": {
        "id": "nQqc3g-UpPtF"
      },
      "execution_count": null,
      "outputs": []
    },
    {
      "cell_type": "code",
      "source": [
        "from PIL import Image  # Importa la biblioteca PIL para trabajar con imágenes\n",
        "\n",
        "def main():\n",
        "    with Image.open(\"in.jpeg\") as img:  # Abre la imagen usando un gestor de contexto\n",
        "        img = img.rotate(180)  # Rota la imagen 180 grados\n",
        "        img.save(\"out.jpeg\")  # Guarda la imagen rotada como 'out.jpeg'\n",
        "\n",
        "main()  # Llama a la función principal"
      ],
      "metadata": {
        "id": "SJQflDhVpYzx"
      },
      "execution_count": null,
      "outputs": []
    },
    {
      "cell_type": "code",
      "source": [
        "from PIL import Image  # Importa la biblioteca PIL para trabajar con imágenes\n",
        "from PIL import ImageFilter  # Importa ImageFilter para aplicar filtros a las imágenes\n",
        "\n",
        "def main():\n",
        "    with Image.open(\"in.jpeg\") as img:  # Abre la imagen usando un gestor de contexto\n",
        "        img = img.rotate(180)  # Rota la imagen 180 grados\n",
        "        img = img.filter(ImageFilter.BLUR)  # Aplica un filtro de desenfoque a la imagen\n",
        "        img.save(\"out.jpeg\")  # Guarda la imagen rotada y desenfocada como 'out.jpeg'\n",
        "\n",
        "main()  # Llama a la función principal"
      ],
      "metadata": {
        "id": "AroKgw25poVa"
      },
      "execution_count": null,
      "outputs": []
    },
    {
      "cell_type": "code",
      "source": [
        "from PIL import Image  # Importa la biblioteca PIL para trabajar con imágenes\n",
        "from PIL import ImageFilter  # Importa ImageFilter para aplicar filtros a las imágenes\n",
        "\n",
        "def main():\n",
        "    with Image.open(\"in.jpeg\") as img:  # Abre la imagen usando un gestor de contexto\n",
        "        img = img.rotate(180)  # Rota la imagen 180 grados\n",
        "        img = img.filter(ImageFilter.FIND_EDGES)  # Aplica un filtro de detección de bordes a la imagen\n",
        "        img.save(\"out.jpeg\")  # Guarda la imagen rotada y con los bordes detectados como 'out.jpeg'\n",
        "\n",
        "main()  # Llama a la función principal"
      ],
      "metadata": {
        "id": "tYYUGcCQp1M5"
      },
      "execution_count": null,
      "outputs": []
    }
  ]
}