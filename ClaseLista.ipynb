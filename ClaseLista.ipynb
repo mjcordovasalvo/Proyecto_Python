{
  "nbformat": 4,
  "nbformat_minor": 0,
  "metadata": {
    "colab": {
      "provenance": [],
      "include_colab_link": true
    },
    "kernelspec": {
      "name": "python3",
      "display_name": "Python 3"
    },
    "language_info": {
      "name": "python"
    }
  },
  "cells": [
    {
      "cell_type": "markdown",
      "metadata": {
        "id": "view-in-github",
        "colab_type": "text"
      },
      "source": [
        "<a href=\"https://colab.research.google.com/github/mjcordovasalvo/Proyecto_Python/blob/main/ClaseLista.ipynb\" target=\"_parent\"><img src=\"https://colab.research.google.com/assets/colab-badge.svg\" alt=\"Open In Colab\"/></a>"
      ]
    },
    {
      "cell_type": "code",
      "execution_count": null,
      "metadata": {
        "id": "HWEtdV93em9A"
      },
      "outputs": [],
      "source": [
        "# Crear una lista con elementos\n",
        "mi_lista = [1, 2, 3, 4, 5]\n",
        "print(mi_lista)\n"
      ]
    },
    {
      "cell_type": "code",
      "source": [
        "# Acceder a elementos individuales usando índices\n",
        "mi_lista = [10, 20, 30, 40]\n",
        "print(mi_lista[0])  # 10\n",
        "print(mi_lista[-1])  # 40 (último elemento)\n"
      ],
      "metadata": {
        "id": "uhJZjXRFesBE"
      },
      "execution_count": null,
      "outputs": []
    },
    {
      "cell_type": "code",
      "source": [
        "# Usamos append() para añadir elementos y pop() para eliminarlos\n",
        "mi_lista = [1, 2, 3]\n",
        "mi_lista.append(4)  # Añadimos el número 4\n",
        "print(mi_lista)\n",
        "\n",
        "mi_lista.pop()  # Eliminamos el último elemento\n",
        "print(mi_lista)\n"
      ],
      "metadata": {
        "id": "R8W73zVlexGD"
      },
      "execution_count": null,
      "outputs": []
    },
    {
      "cell_type": "code",
      "source": [
        "# El método sort() ordena una lista en orden ascendente\n",
        "mi_lista = [4, 1, 3, 2]\n",
        "mi_lista.sort()\n",
        "print(mi_lista)  # [1, 2, 3, 4]\n"
      ],
      "metadata": {
        "id": "4iMC2qPbe1_6"
      },
      "execution_count": null,
      "outputs": []
    },
    {
      "cell_type": "code",
      "source": [
        "# Las listas pueden contener otras listas, formando listas anidadas\n",
        "matriz = [[1, 2, 3], [4, 5, 6], [7, 8, 9]]\n",
        "print(matriz[0][1])  # 2 (segundo elemento de la primera fila)\n"
      ],
      "metadata": {
        "id": "sKB4VUXYe_JV"
      },
      "execution_count": null,
      "outputs": []
    }
  ]
}