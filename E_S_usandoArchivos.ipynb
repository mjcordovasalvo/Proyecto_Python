{
  "nbformat": 4,
  "nbformat_minor": 0,
  "metadata": {
    "colab": {
      "provenance": [],
      "include_colab_link": true
    },
    "kernelspec": {
      "name": "python3",
      "display_name": "Python 3"
    },
    "language_info": {
      "name": "python"
    }
  },
  "cells": [
    {
      "cell_type": "markdown",
      "metadata": {
        "id": "view-in-github",
        "colab_type": "text"
      },
      "source": [
        "<a href=\"https://colab.research.google.com/github/mjcordovasalvo/Proyecto_Python/blob/main/E_S_usandoArchivos.ipynb\" target=\"_parent\"><img src=\"https://colab.research.google.com/assets/colab-badge.svg\" alt=\"Open In Colab\"/></a>"
      ]
    },
    {
      "cell_type": "code",
      "execution_count": null,
      "metadata": {
        "id": "ok-jQaFMk9bD"
      },
      "outputs": [],
      "source": [
        "from google.colab import files\n",
        "# Esto abre un diálogo para que puedas subir el archivo desde tu computadora\n",
        "archivos_subidos = files.upload()\n",
        "\n",
        "# Para verificar que el archivo se subió correctamente\n",
        "for nombre_archivo in archivos_subidos.keys():\n",
        "    print(f\"Archivo {nombre_archivo} subido con éxito.\")\n"
      ]
    },
    {
      "cell_type": "code",
      "source": [
        "with open(\"archivo.txt\", \"r\") as archivo:\n",
        "    contenido = archivo.read()\n",
        "    print(contenido)\n"
      ],
      "metadata": {
        "id": "h_DqbMiKlzfE"
      },
      "execution_count": null,
      "outputs": []
    },
    {
      "cell_type": "code",
      "source": [
        "# Abrimos un archivo en modo lectura (r)\n",
        "# Este archivo debe existir, de lo contrario obtendrás un error\n",
        "archivo = open(\"archivo.txt\", \"r\")\n",
        "print(archivo)  # Muestra información sobre el archivo\n",
        "archivo.close()\n"
      ],
      "metadata": {
        "id": "UU80UXfqmTpa"
      },
      "execution_count": null,
      "outputs": []
    },
    {
      "cell_type": "code",
      "source": [
        "# Leemos todo el contenido de un archivo de una sola vez con read()\n",
        "archivo = open(\"archivo.txt\", \"r\")\n",
        "contenido = archivo.read()  # Lee todo el archivo\n",
        "print(contenido)\n",
        "archivo.close()\n"
      ],
      "metadata": {
        "id": "_9DdEeF7mbAS"
      },
      "execution_count": null,
      "outputs": []
    },
    {
      "cell_type": "code",
      "source": [
        "# Usamos readline() para leer el archivo línea por línea\n",
        "archivo = open(\"archivo.txt\", \"r\")\n",
        "linea = archivo.readline()  # Lee la primera línea\n",
        "while linea:\n",
        "    print(linea.strip())  # Imprimimos la línea eliminando los saltos de línea\n",
        "    linea = archivo.readline()  # Leemos la siguiente línea\n",
        "archivo.close()\n"
      ],
      "metadata": {
        "id": "23lQij9CmkvZ"
      },
      "execution_count": null,
      "outputs": []
    },
    {
      "cell_type": "code",
      "source": [
        "# Leemos todas las líneas del archivo como una lista usando readlines()\n",
        "archivo = open(\"archivo.txt\", \"r\")\n",
        "lineas = archivo.readlines()  # Devuelve una lista donde cada línea es un elemento\n",
        "print(lineas)\n",
        "archivo.close()\n"
      ],
      "metadata": {
        "id": "szAX6cBDmzsh"
      },
      "execution_count": null,
      "outputs": []
    },
    {
      "cell_type": "code",
      "source": [
        "# Procesamos cada línea individualmente después de leerlas con readlines()\n",
        "archivo = open(\"archivo.txt\", \"r\")\n",
        "lineas = archivo.readlines()\n",
        "for linea in lineas:\n",
        "    print(linea.strip())  # Elimina el salto de línea y muestra cada línea\n",
        "archivo.close()\n"
      ],
      "metadata": {
        "id": "qKbjIzOqm__V"
      },
      "execution_count": null,
      "outputs": []
    },
    {
      "cell_type": "code",
      "source": [
        "# Abrimos un archivo en modo escritura (w) y escribimos contenido\n",
        "# Si el archivo no existe, se creará. Si existe, se sobrescribirá\n",
        "archivo = open(\"nuevo_archivo.txt\", \"w\")\n",
        "archivo.write(\"Este es el primer contenido del archivo.\\n\")\n",
        "archivo.write(\"Este es el segundo contenido.\\n\")\n",
        "archivo.close()\n"
      ],
      "metadata": {
        "id": "nz23O7sjnJAN"
      },
      "execution_count": null,
      "outputs": []
    },
    {
      "cell_type": "code",
      "source": [
        "# Usamos el modo append ('a') para añadir contenido sin sobrescribir el archivo\n",
        "archivo = open(\"nuevo_archivo.txt\", \"a\")\n",
        "archivo.write(\"Este es un contenido añadido al archivo.\\n\")\n",
        "archivo.close()\n"
      ],
      "metadata": {
        "id": "YYjrbuUjnOPz"
      },
      "execution_count": null,
      "outputs": []
    },
    {
      "cell_type": "code",
      "source": [
        "# Escribimos en un archivo y luego leemos lo que escribimos\n",
        "archivo = open(\"archivo_mixto.txt\", \"w\")\n",
        "archivo.write(\"Primera línea escrita.\\nSegunda línea escrita.\\n\")\n",
        "archivo.close()\n",
        "\n",
        "# Ahora leemos el contenido\n",
        "archivo = open(\"archivo_mixto.txt\", \"r\")\n",
        "contenido = archivo.read()\n",
        "print(contenido)\n",
        "archivo.close()\n"
      ],
      "metadata": {
        "id": "OMnLcfuBng2n"
      },
      "execution_count": null,
      "outputs": []
    },
    {
      "cell_type": "code",
      "source": [
        "# Usamos try-except para manejar posibles errores al abrir un archivo\n",
        "try:\n",
        "    archivo = open(\"archivo_inexistente.txt\", \"r\")\n",
        "    print(archivo.read())\n",
        "    archivo.close()\n",
        "except FileNotFoundError:\n",
        "    print(\"El archivo no existe.\")\n"
      ],
      "metadata": {
        "id": "-eiNi8mPnllc"
      },
      "execution_count": null,
      "outputs": []
    },
    {
      "cell_type": "code",
      "source": [
        "# Usamos el bloque 'with' para abrir y cerrar archivos automáticamente\n",
        "with open(\"archivo.txt\", \"r\") as archivo:\n",
        "    contenido = archivo.read()\n",
        "    print(contenido)  # El archivo se cierra automáticamente después de este bloque\n"
      ],
      "metadata": {
        "id": "IRyaUAqKnuHx"
      },
      "execution_count": null,
      "outputs": []
    },
    {
      "cell_type": "code",
      "source": [
        "# Contamos cuántas líneas tiene un archivo\n",
        "with open(\"archivo.txt\", \"r\") as archivo:\n",
        "    lineas = archivo.readlines()\n",
        "    print(f\"El archivo tiene {len(lineas)} líneas.\")\n"
      ],
      "metadata": {
        "id": "9iqTwGOhnzyp"
      },
      "execution_count": null,
      "outputs": []
    },
    {
      "cell_type": "code",
      "source": [
        "# Usamos writelines() para escribir una lista de líneas en un archivo\n",
        "lineas = [\"Línea 1\\n\", \"Línea 2\\n\", \"Línea 3\\n\"]\n",
        "with open(\"archivo_escrito.txt\", \"w\") as archivo:\n",
        "    archivo.writelines(lineas)\n"
      ],
      "metadata": {
        "id": "NRkCM_4Pn9dk"
      },
      "execution_count": null,
      "outputs": []
    },
    {
      "cell_type": "code",
      "source": [
        "# Para archivos grandes, leer línea por línea con readline() es más eficiente que read()\n",
        "with open(\"archivo_grande.txt\", \"r\") as archivo:\n",
        "    for linea in archivo:\n",
        "        print(linea.strip())  # Procesamos cada línea una por una\n"
      ],
      "metadata": {
        "id": "ziz4WWKvoqxM"
      },
      "execution_count": null,
      "outputs": []
    },
    {
      "cell_type": "code",
      "source": [
        "# Leemos un archivo y buscamos una palabra específica en las líneas\n",
        "with open(\"archivo.txt\", \"r\") as archivo:\n",
        "    for numero, linea in enumerate(archivo, start=1):\n",
        "        if \"clave\" in linea:  # Buscamos la palabra \"clave\"\n",
        "            print(f\"La palabra 'clave' fue encontrada en la línea {numero}: {linea.strip()}\")\n"
      ],
      "metadata": {
        "id": "2u6I57J3o-me"
      },
      "execution_count": null,
      "outputs": []
    },
    {
      "cell_type": "code",
      "source": [
        "# Contamos cuántas palabras hay en un archivo\n",
        "with open(\"archivo.txt\", \"r\") as archivo:\n",
        "    contenido = archivo.read()\n",
        "    palabras = contenido.split()  # Divide el contenido por espacios\n",
        "    print(f\"El archivo contiene {len(palabras)} palabras.\")\n"
      ],
      "metadata": {
        "id": "_18-TKBupQC6"
      },
      "execution_count": null,
      "outputs": []
    }
  ]
}