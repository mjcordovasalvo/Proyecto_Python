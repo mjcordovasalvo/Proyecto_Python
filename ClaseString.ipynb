{
  "nbformat": 4,
  "nbformat_minor": 0,
  "metadata": {
    "colab": {
      "provenance": [],
      "include_colab_link": true
    },
    "kernelspec": {
      "name": "python3",
      "display_name": "Python 3"
    },
    "language_info": {
      "name": "python"
    }
  },
  "cells": [
    {
      "cell_type": "markdown",
      "metadata": {
        "id": "view-in-github",
        "colab_type": "text"
      },
      "source": [
        "<a href=\"https://colab.research.google.com/github/mjcordovasalvo/Proyecto_Python/blob/main/ClaseString.ipynb\" target=\"_parent\"><img src=\"https://colab.research.google.com/assets/colab-badge.svg\" alt=\"Open In Colab\"/></a>"
      ]
    },
    {
      "cell_type": "code",
      "execution_count": null,
      "metadata": {
        "id": "ADvjAxJhdq_U"
      },
      "outputs": [],
      "source": [
        "# Crear un String en Python es muy sencillo\n",
        "cadena = \"Hola, Mundo\"\n",
        "print(cadena)\n"
      ]
    },
    {
      "cell_type": "code",
      "source": [
        "# Métodos como upper(), lower(), y capitalize() se usan para manipular Strings\n",
        "cadena = \"hola\"\n",
        "print(cadena.upper())       # HOLA\n",
        "print(cadena.capitalize())  # Hola\n"
      ],
      "metadata": {
        "id": "0tkBBHiFd3Xi"
      },
      "execution_count": null,
      "outputs": []
    },
    {
      "cell_type": "code",
      "source": [
        "# Usamos find() para buscar una subcadena en un String\n",
        "cadena = \"Python es genial\"\n",
        "posicion = cadena.find(\"genial\")\n",
        "print(posicion)  # 10 (empieza en la posición 10)\n"
      ],
      "metadata": {
        "id": "4ie_UjZ_d6E6"
      },
      "execution_count": null,
      "outputs": []
    },
    {
      "cell_type": "code",
      "source": [
        "# El método replace() nos permite reemplazar partes de un String\n",
        "cadena = \"Aprender Python es divertido\"\n",
        "nueva_cadena = cadena.replace(\"divertido\", \"fascinante\")\n",
        "print(nueva_cadena)  # Aprender Python es fascinante\n"
      ],
      "metadata": {
        "id": "uZYvjVk8eDXo"
      },
      "execution_count": null,
      "outputs": []
    },
    {
      "cell_type": "code",
      "source": [
        "# split() divide un String en una lista y join() los une de nuevo\n",
        "cadena = \"uno, dos, tres\"\n",
        "lista = cadena.split(\", \")\n",
        "print(lista)  # ['uno', 'dos', 'tres']\n",
        "\n",
        "nueva_cadena = \"-\".join(lista)\n",
        "print(nueva_cadena)  # uno-dos-tres\n"
      ],
      "metadata": {
        "id": "QISYSgM3eKN9"
      },
      "execution_count": null,
      "outputs": []
    }
  ]
}