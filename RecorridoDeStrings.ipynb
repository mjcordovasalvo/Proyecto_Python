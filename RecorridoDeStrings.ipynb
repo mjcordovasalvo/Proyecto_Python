{
  "nbformat": 4,
  "nbformat_minor": 0,
  "metadata": {
    "colab": {
      "provenance": [],
      "include_colab_link": true
    },
    "kernelspec": {
      "name": "python3",
      "display_name": "Python 3"
    },
    "language_info": {
      "name": "python"
    }
  },
  "cells": [
    {
      "cell_type": "markdown",
      "metadata": {
        "id": "view-in-github",
        "colab_type": "text"
      },
      "source": [
        "<a href=\"https://colab.research.google.com/github/mjcordovasalvo/Proyecto_Python/blob/main/RecorridoDeStrings.ipynb\" target=\"_parent\"><img src=\"https://colab.research.google.com/assets/colab-badge.svg\" alt=\"Open In Colab\"/></a>"
      ]
    },
    {
      "cell_type": "code",
      "source": [
        "# Slicing básico: [inicio:fin]\n",
        "# Extrae los caracteres desde la posición 0 hasta la 4 (sin incluir la posición 4)\n",
        "palabra = \"Programación\"\n",
        "parte = palabra[0:4]  # 'Prog'\n",
        "print(parte)\n"
      ],
      "metadata": {
        "id": "OMLu8KXhWZ4y"
      },
      "execution_count": null,
      "outputs": []
    },
    {
      "cell_type": "code",
      "source": [
        "# Si no especificamos el valor de inicio, Python asume que empezamos desde el principio\n",
        "# Si no especificamos el valor de fin, Python asume que llegamos hasta el final\n",
        "palabra = \"Programación\"\n",
        "print(palabra[:5])  # 'Progr' (Desde el inicio hasta la posición 4)\n",
        "print(palabra[5:])  # 'amación' (Desde la posición 5 hasta el final)\n"
      ],
      "metadata": {
        "id": "uiI81Ct8Wl_R"
      },
      "execution_count": null,
      "outputs": []
    },
    {
      "cell_type": "code",
      "source": [
        "# También podemos usar índices negativos para contar desde el final del String\n",
        "palabra = \"Programación\"\n",
        "# Empieza en la posición -4 (la 'i') y termina al final del String\n",
        "print(palabra[-4:])  # 'ción'\n"
      ],
      "metadata": {
        "id": "Lm497erlWzu7"
      },
      "execution_count": null,
      "outputs": []
    },
    {
      "cell_type": "code",
      "source": [
        "# El tercer argumento en el slicing es el \"paso\", que indica cuántos caracteres saltar\n",
        "# En este ejemplo, tomamos un carácter cada 2 posiciones\n",
        "palabra = \"Programación\"\n",
        "resultado = palabra[0:10:2]  # 'Pormc'\n",
        "print(resultado)\n"
      ],
      "metadata": {
        "id": "0LB3-WA2XEGT"
      },
      "execution_count": null,
      "outputs": []
    },
    {
      "cell_type": "code",
      "source": [
        "# Podemos invertir un String usando slicing con un paso negativo\n",
        "palabra = \"Python\"\n",
        "palabra_invertida = palabra[::-1]  # 'nohtyP'\n",
        "print(palabra_invertida)\n"
      ],
      "metadata": {
        "id": "uj1iQw5HXUMK"
      },
      "execution_count": null,
      "outputs": []
    },
    {
      "cell_type": "code",
      "source": [
        "# El slicing no solo funciona en Strings, también lo podemos usar en listas\n",
        "numeros = [10, 20, 30, 40, 50, 60, 70, 80]\n",
        "# Obtenemos una porción de la lista desde la posición 2 hasta la 5 (sin incluir la 5)\n",
        "sub_lista = numeros[2:5]  # [30, 40, 50]\n",
        "print(sub_lista)\n",
        "\n",
        "# También podemos usar el paso para obtener solo los elementos en posiciones pares\n",
        "pares = numeros[::2]  # [10, 30, 50, 70]\n",
        "print(pares)\n"
      ],
      "metadata": {
        "id": "xE41NVjfWvri"
      },
      "execution_count": null,
      "outputs": []
    },
    {
      "cell_type": "code",
      "execution_count": null,
      "metadata": {
        "id": "8TtZsNZrTZhM"
      },
      "outputs": [],
      "source": [
        "# Un String es una secuencia de caracteres, donde cada carácter tiene una posición (índice)\n",
        "# Podemos acceder a los caracteres de un String usando corchetes []\n",
        "palabra = \"Python\"\n",
        "# Accedemos al primer carácter\n",
        "print(palabra[0])  # 'P'\n",
        "# Accedemos al último carácter\n",
        "print(palabra[-1])  # 'n'\n"
      ]
    },
    {
      "cell_type": "code",
      "source": [
        "# Podemos recorrer un String carácter por carácter usando un bucle for\n",
        "palabra = \"Python\"\n",
        "for letra in palabra:\n",
        "    print(letra)  # Imprime cada letra en una nueva línea\n"
      ],
      "metadata": {
        "id": "KZXjIG-MUBHQ"
      },
      "execution_count": null,
      "outputs": []
    },
    {
      "cell_type": "code",
      "source": [
        "# La función len() devuelve la longitud (número de caracteres) de un String\n",
        "palabra = \"Programación\"\n",
        "longitud = len(palabra)\n",
        "print(f\"La palabra tiene {longitud} caracteres.\")\n"
      ],
      "metadata": {
        "id": "DFbS5EDGUN8b"
      },
      "execution_count": null,
      "outputs": []
    },
    {
      "cell_type": "code",
      "source": [
        "# Podemos usar len() junto con un bucle for para recorrer un String usando índices\n",
        "palabra = \"Python\"\n",
        "for i in range(len(palabra)):\n",
        "    print(f\"Caracter en la posición {i}: {palabra[i]}\")\n"
      ],
      "metadata": {
        "id": "5vkoNHKvUZ-Q"
      },
      "execution_count": null,
      "outputs": []
    },
    {
      "cell_type": "code",
      "source": [
        "# El operador + nos permite concatenar (unir) dos o más Strings\n",
        "parte1 = \"Hola\"\n",
        "parte2 = \"Mundo\"\n",
        "frase = parte1 + \" \" + parte2  # Concatenamos las dos palabras con un espacio en medio\n",
        "print(frase)\n"
      ],
      "metadata": {
        "id": "n-Ye5MSLUjsG"
      },
      "execution_count": null,
      "outputs": []
    },
    {
      "cell_type": "code",
      "source": [
        "# Los Strings en Python son inmutables, pero podemos crear nuevos Strings a partir de ellos usando slicing\n",
        "palabra = \"Python\"\n",
        "nueva_palabra = palabra[:2] + \"r\" + palabra[3:]  # Cambiamos la 't' por una 'r'\n",
        "print(nueva_palabra)  # 'Pyrhon'\n"
      ],
      "metadata": {
        "id": "-abH2lkkUujw"
      },
      "execution_count": null,
      "outputs": []
    },
    {
      "cell_type": "code",
      "source": [
        "# Podemos verificar si un carácter o substring está presente en un String usando el operador 'in'\n",
        "frase = \"Bienvenidos a Python\"\n",
        "if \"a\" in frase:\n",
        "    print(\"La letra 'a' está en la frase.\")\n",
        "else:\n",
        "    print(\"La letra 'a' no está en la frase.\")\n"
      ],
      "metadata": {
        "id": "y4vWm_SAVRTH"
      },
      "execution_count": null,
      "outputs": []
    },
    {
      "cell_type": "code",
      "source": [
        "# Usando un bucle for podemos contar cuántas veces aparece un carácter en un String\n",
        "palabra = \"Programación\"\n",
        "contador = 0\n",
        "for letra in palabra:\n",
        "    if letra == \"o\":\n",
        "        contador += 1\n",
        "print(f\"La letra 'o' aparece {contador} veces en la palabra.\")\n"
      ],
      "metadata": {
        "id": "JrVocJckVaJC"
      },
      "execution_count": null,
      "outputs": []
    },
    {
      "cell_type": "code",
      "source": [
        "# Podemos invertir un String usando slicing [::-1]\n",
        "palabra = \"Python\"\n",
        "palabra_invertida = palabra[::-1]\n",
        "print(f\"El inverso de '{palabra}' es '{palabra_invertida}'.\")\n"
      ],
      "metadata": {
        "id": "nLKVJUhCVoic"
      },
      "execution_count": null,
      "outputs": []
    },
    {
      "cell_type": "code",
      "source": [
        "# Podemos comparar dos Strings para ver si son iguales usando ==\n",
        "string1 = \"Python\"\n",
        "string2 = \"Python\"\n",
        "if string1 == string2:\n",
        "    print(\"Los Strings son iguales.\")\n",
        "else:\n",
        "    print(\"Los Strings son diferentes.\")\n"
      ],
      "metadata": {
        "id": "k7ujNOs6V3Wd"
      },
      "execution_count": null,
      "outputs": []
    }
  ]
}