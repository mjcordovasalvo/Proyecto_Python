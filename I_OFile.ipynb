{
  "nbformat": 4,
  "nbformat_minor": 0,
  "metadata": {
    "colab": {
      "provenance": [],
      "include_colab_link": true
    },
    "kernelspec": {
      "name": "python3",
      "display_name": "Python 3"
    },
    "language_info": {
      "name": "python"
    }
  },
  "cells": [
    {
      "cell_type": "markdown",
      "metadata": {
        "id": "view-in-github",
        "colab_type": "text"
      },
      "source": [
        "<a href=\"https://colab.research.google.com/github/mjcordovasalvo/Proyecto_Python/blob/main/I_OFile.ipynb\" target=\"_parent\"><img src=\"https://colab.research.google.com/assets/colab-badge.svg\" alt=\"Open In Colab\"/></a>"
      ]
    },
    {
      "cell_type": "code",
      "execution_count": null,
      "metadata": {
        "id": "WJdRw85q3TPG"
      },
      "outputs": [],
      "source": [
        "# Almacena un nombre en una variable\n",
        "\n",
        "name = input(\"¿Cuál es tu nombre? \")  # Solicita al usuario su nombre y lo almacena en la variable 'name'\n",
        "print(f\"hola, {name}\")  # Imprime un saludo personalizado con el nombre ingresado\n"
      ]
    },
    {
      "cell_type": "code",
      "source": [
        "# Almacena nombres en una lista\n",
        "\n",
        "names = []  # Inicializa una lista vacía para almacenar nombres\n",
        "\n",
        "for _ in range(3):\n",
        "    names.append(input(\"¿Cuál es tu nombre? \"))  # Solicita tres nombres y los añade a la lista\n",
        "\n",
        "for name in sorted(names):  # Ordena los nombres alfabéticamente\n",
        "    print(f\"hola, {name}\")  # Imprime un saludo personalizado para cada nombre\n",
        "\n"
      ],
      "metadata": {
        "id": "MbhFYF1B3n1r"
      },
      "execution_count": null,
      "outputs": []
    },
    {
      "cell_type": "code",
      "source": [
        "# Escribe un nombre en un archivo\n",
        "\n",
        "name = input(\"¿Cuál es tu nombre? \")  # Solicita al usuario su nombre\n",
        "\n",
        "file = open(\"names.txt\", \"w\")  # Abre el archivo 'names.txt' en modo escritura (w), borrando el contenido previo\n",
        "file.write(name)  # Escribe el nombre en el archivo\n",
        "file.close()  # Cierra el archivo"
      ],
      "metadata": {
        "colab": {
          "base_uri": "https://localhost:8080/"
        },
        "id": "egstmX5_31w0",
        "outputId": "a7fa6197-c86c-41fa-a9ed-90959b00ea8d"
      },
      "execution_count": null,
      "outputs": [
        {
          "name": "stdout",
          "output_type": "stream",
          "text": [
            "¿Cuál es tu nombre? Oscar\n"
          ]
        }
      ]
    },
    {
      "cell_type": "code",
      "source": [
        "# Añade un nombre a un archivo\n",
        "\n",
        "name = input(\"¿Cuál es tu nombre? \")  # Solicita al usuario su nombre\n",
        "\n",
        "file = open(\"names.txt\", \"a\")  # Abre el archivo 'names.txt' en modo agregar (a), sin borrar el contenido existente\n",
        "file.write(f\"{name}\\n\")  # Añade el nombre al archivo, seguido de un salto de línea\n",
        "file.close()  # Cierra el archivo"
      ],
      "metadata": {
        "id": "daL0QAtW5SW6"
      },
      "execution_count": null,
      "outputs": []
    },
    {
      "cell_type": "code",
      "source": [
        "# Añade un nombre a un archivo usando un gestor de contexto\n",
        "\n",
        "name = input(\"¿Cuál es tu nombre? \")  # Solicita al usuario su nombre\n",
        "\n",
        "with open(\"names.txt\", \"a\") as file:  # Abre el archivo en modo agregar (a) y automáticamente lo cierra al final del bloque\n",
        "    file.write(f\"{name}\\n\")  # Añade el nombre al archivo con un salto de línea"
      ],
      "metadata": {
        "id": "7wXiMwE_6z4F"
      },
      "execution_count": null,
      "outputs": []
    },
    {
      "cell_type": "code",
      "source": [
        "# Lee nombres de un archivo\n",
        "\n",
        "with open(\"names.txt\") as file:  # Abre el archivo en modo lectura\n",
        "    lines = file.readlines()  # Lee todas las líneas del archivo y las almacena en la lista 'lines'\n",
        "\n",
        "for line in lines:\n",
        "    print(\"hola,\", line.rstrip())  # Imprime un saludo para cada nombre, eliminando el salto de línea"
      ],
      "metadata": {
        "id": "F39RXODb7MpP"
      },
      "execution_count": null,
      "outputs": []
    },
    {
      "cell_type": "code",
      "source": [
        "# Lee nombres de un archivo, una línea a la vez\n",
        "\n",
        "with open(\"names.txt\") as file:  # Abre el archivo en modo lectura\n",
        "    for line in file:\n",
        "        print(\"hola,\", line.rstrip())  # Imprime un saludo para cada nombre, eliminando el salto de línea"
      ],
      "metadata": {
        "id": "j-9Vfwhm7gSm"
      },
      "execution_count": null,
      "outputs": []
    },
    {
      "cell_type": "code",
      "source": [
        "# Añade nombres a una lista para ordenarlos\n",
        "\n",
        "names = []  # Inicializa una lista vacía para almacenar nombres\n",
        "\n",
        "with open(\"names.txt\") as file:  # Abre el archivo en modo lectura\n",
        "    for line in file:\n",
        "        names.append(line.rstrip())  # Añade cada nombre a la lista, eliminando los saltos de línea\n",
        "\n",
        "for name in sorted(names):  # Ordena los nombres alfabéticamente\n",
        "    print(f\"hola, {name}\")  # Imprime un saludo personalizado para cada nombre"
      ],
      "metadata": {
        "id": "viHySeKB76Sl"
      },
      "execution_count": null,
      "outputs": []
    },
    {
      "cell_type": "code",
      "source": [
        "# Lee un archivo CSV\n",
        "\n",
        "with open(\"students0.csv\") as file:  # Abre el archivo 'students0.csv' en modo lectura\n",
        "    for line in file:\n",
        "        row = line.rstrip().split(\";\")  # Elimina el salto de línea y separa la línea en una lista usando la coma como delimitador\n",
        "        print(f\"{row[0]} está en {row[1]}\")  # Imprime el nombre y la casa del estudiante"
      ],
      "metadata": {
        "id": "Okip1dEA9C9V"
      },
      "execution_count": null,
      "outputs": []
    },
    {
      "cell_type": "code",
      "source": [
        "# Desempaqueta una lista\n",
        "\n",
        "with open(\"students0.csv\") as file:  # Abre el archivo 'students0.csv'\n",
        "    for line in file:\n",
        "        name, house = line.rstrip().split(\";\")  # Desempaqueta la lista en las variables 'name' y 'house'\n",
        "        print(f\"{name} está en {house}\")  # Imprime el nombre y la casa del estudiante"
      ],
      "metadata": {
        "id": "Xjv7S8bD9o56"
      },
      "execution_count": null,
      "outputs": []
    },
    {
      "cell_type": "code",
      "source": [
        "# Ordena una lista de cadenas\n",
        "\n",
        "students = []  # Inicializa una lista vacía\n",
        "\n",
        "with open(\"students0.csv\") as file:  # Abre el archivo 'students0.csv'\n",
        "    for line in file:\n",
        "        name, house = line.rstrip().split(\";\")  # Separa cada línea en nombre y casa\n",
        "        students.append(f\"{name} está en {house}\")  # Añade una cadena con el formato adecuado a la lista 'students'\n",
        "\n",
        "for student in sorted(students):  # Ordena alfabéticamente la lista de estudiantes\n",
        "    print(student)  # Imprime cada estudiante"
      ],
      "metadata": {
        "id": "5XjTQReA-CI4"
      },
      "execution_count": null,
      "outputs": []
    },
    {
      "cell_type": "code",
      "source": [
        "# Lee un archivo CSV en una lista de diccionarios, creando primero un diccionario vacío\n",
        "\n",
        "students = []  # Inicializa una lista vacía\n",
        "\n",
        "with open(\"students0.csv\") as file:  # Abre el archivo 'students0.csv'\n",
        "    for line in file:\n",
        "        name, house = line.rstrip().split(\";\")  # Separa cada línea en nombre y casa\n",
        "        student = {}  # Crea un diccionario vacío\n",
        "        student[\"name\"] = name  # Añade el nombre al diccionario\n",
        "        student[\"house\"] = house  # Añade la casa al diccionario\n",
        "        students.append(student)  # Añade el diccionario a la lista 'students'\n",
        "\n",
        "for student in students:  # Recorre la lista de diccionarios\n",
        "    print(f\"{student['name']} está en {student['house']}\")  # Imprime el nombre y la casa de cada estudiante"
      ],
      "metadata": {
        "id": "IxG0lIUc-SAy"
      },
      "execution_count": null,
      "outputs": []
    },
    {
      "cell_type": "code",
      "source": [
        "# Lee un archivo CSV en una lista de diccionarios, creando primero el diccionario\n",
        "\n",
        "students = []  # Inicializa una lista vacía\n",
        "\n",
        "with open(\"students0.csv\") as file:  # Abre el archivo 'students0.csv'\n",
        "    for line in file:\n",
        "        name, house = line.rstrip().split(\";\")  # Separa cada línea en nombre y casa\n",
        "        student = {\"name\": name, \"house\": house}  # Crea un diccionario con nombre y casa\n",
        "        students.append(student)  # Añade el diccionario a la lista 'students'\n",
        "\n",
        "for student in students:  # Recorre la lista de diccionarios\n",
        "    print(f\"{student['name']} está en {student['house']}\")  # Imprime el nombre y la casa de cada estudiante"
      ],
      "metadata": {
        "id": "RfNKQ_1c-q2u"
      },
      "execution_count": null,
      "outputs": []
    },
    {
      "cell_type": "code",
      "source": [
        "# Lee un archivo CSV en una lista de diccionarios\n",
        "\n",
        "students = []  # Inicializa una lista vacía\n",
        "\n",
        "with open(\"students0.csv\") as file:  # Abre el archivo 'students0.csv'\n",
        "    for line in file:\n",
        "        name, house = line.rstrip().split(\";\")  # Separa cada línea en nombre y casa\n",
        "        students.append({\"name\": name, \"house\": house})  # Añade el diccionario directamente a la lista 'students'\n",
        "\n",
        "for student in students:  # Recorre la lista de diccionarios\n",
        "    print(f\"{student['name']} está en {student['house']}\")  # Imprime el nombre y la casa de cada estudiante"
      ],
      "metadata": {
        "id": "9c3JbQ-H-7Jq"
      },
      "execution_count": null,
      "outputs": []
    },
    {
      "cell_type": "code",
      "source": [
        "# Ordena una lista de diccionarios usando una función\n",
        "\n",
        "students = []  # Inicializa una lista vacía\n",
        "\n",
        "with open(\"students0.csv\") as file:  # Abre el archivo 'students0.csv'\n",
        "    for line in file:\n",
        "        name, house = line.rstrip().split(\";\")  # Separa cada línea en nombre y casa\n",
        "        students.append({\"name\": name, \"house\": house})  # Añade el diccionario a la lista 'students'\n",
        "\n",
        "def get_name(student):\n",
        "    return student[\"name\"]  # Función que devuelve el nombre del estudiante\n",
        "\n",
        "for student in sorted(students, key=get_name):  # Ordena la lista usando la función 'get_name' como clave\n",
        "    print(f\"{student['name']} está en {student['house']}\")  # Imprime el nombre y la casa de cada estudiante"
      ],
      "metadata": {
        "id": "dIJi0NaG_N9-"
      },
      "execution_count": null,
      "outputs": []
    },
    {
      "cell_type": "code",
      "source": [
        "# Ordena una lista de diccionarios usando una función lambda\n",
        "\n",
        "students = []  # Inicializa una lista vacía\n",
        "\n",
        "with open(\"students0.csv\") as file:  # Abre el archivo 'students0.csv'\n",
        "    for line in file:\n",
        "        name, house = line.rstrip().split(\";\")  # Separa cada línea en nombre y casa\n",
        "        students.append({\"name\": name, \"house\": house})  # Añade el diccionario a la lista 'students'\n",
        "\n",
        "for student in sorted(students, key=lambda student: student[\"name\"]):  # Usa una función lambda para ordenar por nombre\n",
        "    print(f\"{student['name']} está en {student['house']}\")  # Imprime el nombre y la casa de cada estudiante"
      ],
      "metadata": {
        "id": "HXG_2ZBV_m-R"
      },
      "execution_count": null,
      "outputs": []
    },
    {
      "cell_type": "code",
      "source": [
        "# Lee un archivo CSV usando csv.reader\n",
        "\n",
        "import csv\n",
        "\n",
        "students = []  # Inicializa una lista vacía\n",
        "\n",
        "with open(\"students1.csv\") as file:  # Abre el archivo 'students1.csv'\n",
        "    reader = csv.reader(file, delimiter=\";\")  # Usa csv.reader para leer el archivo\n",
        "    for row in reader:\n",
        "        students.append({\"name\": row[0], \"home\": row[1]})  # Añade el nombre y el hogar como diccionario a la lista\n",
        "\n",
        "for student in sorted(students, key=lambda student: student[\"name\"], reverse=True):  # Ordena por nombre usando lambda\n",
        "    print(f\"{student['name']} es de {student['home']}\")  # Imprime el nombre y el hogar de cada estudiante"
      ],
      "metadata": {
        "id": "X5EusXLQ_285"
      },
      "execution_count": null,
      "outputs": []
    },
    {
      "cell_type": "code",
      "source": [
        "# Lee un archivo CSV usando csv.DictReader\n",
        "\n",
        "import csv\n",
        "\n",
        "students = []  # Inicializa una lista vacía\n",
        "\n",
        "with open(\"students2.csv\") as file:  # Abre el archivo 'students2.csv'\n",
        "    reader = csv.DictReader(file, delimiter=\";\")  # Usa csv.DictReader para leer el archivo\n",
        "    for row in reader:\n",
        "        students.append({\"name\": row[\"name\"], \"home\": row[\"home\"]})  # Añade cada fila como diccionario a la lista\n",
        "\n",
        "for student in sorted(students, key=lambda student: student[\"name\"]):  # Ordena por nombre usando lambda\n",
        "    print(f\"{student['name']} es de {student['home']}\")  # Imprime el nombre y el hogar de cada estudiante\n"
      ],
      "metadata": {
        "id": "d6NIaIvGDFuZ"
      },
      "execution_count": null,
      "outputs": []
    },
    {
      "cell_type": "code",
      "source": [
        "# Escribe un archivo CSV usando csv.writer\n",
        "\n",
        "import csv\n",
        "\n",
        "name = input(\"¿Cuál es tu nombre? \")  # Solicita el nombre del usuario\n",
        "home = input(\"¿Dónde vives? \")  # Solicita el hogar del usuario\n",
        "\n",
        "with open(\"students2.csv\", \"a\") as file:  # Abre el archivo en modo agregar\n",
        "    writer = csv.writer(file, delimiter=\";\")  # Crea un escritor csv\n",
        "    writer.writerow([name, home])  # Escribe el nombre y el hogar como una nueva fila en el archivo\n",
        "\n",
        "students = []  # Inicializa una lista vacía\n",
        "\n",
        "with open(\"students2.csv\") as file:  # Abre el archivo 'students2.csv'\n",
        "    reader = csv.DictReader(file, delimiter=\";\")  # Usa csv.DictReader para leer el archivo\n",
        "    for row in reader:\n",
        "        students.append(row)  # Añade cada fila como diccionario a la lista\n",
        "\n",
        "for student in sorted(students, key=lambda student: student[\"name\"]):  # Ordena por nombre usando lambda\n",
        "    print(f\"{student['name']} es de {student['home']}\")  # Imprime el nombre y el hogar de cada estudiante"
      ],
      "metadata": {
        "id": "bOSeuu3bDrIR"
      },
      "execution_count": null,
      "outputs": []
    },
    {
      "cell_type": "code",
      "source": [
        "# Escribe un archivo CSV usando csv.DictWriter\n",
        "\n",
        "import csv\n",
        "\n",
        "name = input(\"¿Cuál es tu nombre? \")  # Solicita el nombre del usuario\n",
        "home = input(\"¿Dónde vives? \")  # Solicita el hogar del usuario\n",
        "\n",
        "with open(\"students2.csv\", \"a\") as file:  # Abre el archivo en modo agregar\n",
        "    writer = csv.DictWriter(file, fieldnames=[\"name\", \"home\"], delimiter=\";\")  # Crea un escritor dict con las cabeceras 'name' y 'home'\n",
        "    writer.writerow({\"name\": name, \"home\": home})  # Escribe un diccionario con el nombre y el hogar en el archivo\n",
        "\n"
      ],
      "metadata": {
        "id": "PZZNdXGFFNyf"
      },
      "execution_count": null,
      "outputs": []
    }
  ]
}