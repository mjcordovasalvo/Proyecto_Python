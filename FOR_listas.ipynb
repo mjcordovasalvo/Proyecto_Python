{
  "nbformat": 4,
  "nbformat_minor": 0,
  "metadata": {
    "colab": {
      "provenance": [],
      "include_colab_link": true
    },
    "kernelspec": {
      "name": "python3",
      "display_name": "Python 3"
    },
    "language_info": {
      "name": "python"
    }
  },
  "cells": [
    {
      "cell_type": "markdown",
      "metadata": {
        "id": "view-in-github",
        "colab_type": "text"
      },
      "source": [
        "<a href=\"https://colab.research.google.com/github/mjcordovasalvo/Proyecto_Python/blob/main/FOR_listas.ipynb\" target=\"_parent\"><img src=\"https://colab.research.google.com/assets/colab-badge.svg\" alt=\"Open In Colab\"/></a>"
      ]
    },
    {
      "cell_type": "code",
      "execution_count": null,
      "metadata": {
        "id": "ygci03gPgYfT"
      },
      "outputs": [],
      "source": [
        "# Recorrer una lista de una dimensión con un bucle for\n",
        "numeros = [1, 2, 3, 4, 5]\n",
        "for numero in numeros:\n",
        "    print(numero)\n"
      ]
    },
    {
      "cell_type": "code",
      "source": [
        "# Usamos range() y len() para acceder a los elementos de la lista por índice\n",
        "numeros = [10, 20, 30, 40, 50]\n",
        "for i in range(len(numeros)):\n",
        "    print(f\"Elemento en la posición {i}: {numeros[i]}\")\n"
      ],
      "metadata": {
        "id": "CX4VUtxQgcaA"
      },
      "execution_count": null,
      "outputs": []
    },
    {
      "cell_type": "code",
      "source": [
        "# Modificar una lista durante un recorrido usando índices\n",
        "numeros = [5, 10, 15, 20]\n",
        "for i in range(len(numeros)):\n",
        "    numeros[i] = numeros[i] * 2  # Multiplicamos cada elemento por 2\n",
        "print(numeros)  # [10, 20, 30, 40]\n"
      ],
      "metadata": {
        "id": "SULE8_tPgg0A"
      },
      "execution_count": null,
      "outputs": []
    },
    {
      "cell_type": "code",
      "source": [
        "# Usamos enumerate() para obtener tanto el índice como el valor de los elementos de la lista\n",
        "colores = [\"rojo\", \"verde\", \"azul\"]\n",
        "for indice, color in enumerate(colores):\n",
        "    print(f\"Índice: {indice}, Color: {color}\")\n"
      ],
      "metadata": {
        "id": "-uQdXBSkgmx2"
      },
      "execution_count": null,
      "outputs": []
    },
    {
      "cell_type": "code",
      "source": [
        "# Creamos una nueva lista que contiene solo los números mayores que 20\n",
        "numeros = [10, 25, 30, 5, 40]\n",
        "mayores_de_20 = []\n",
        "for numero in numeros:\n",
        "    if numero > 20:\n",
        "        mayores_de_20.append(numero)\n",
        "print(mayores_de_20)  # [25, 30, 40]\n"
      ],
      "metadata": {
        "id": "_sJV66nfgsPR"
      },
      "execution_count": null,
      "outputs": []
    },
    {
      "cell_type": "code",
      "source": [
        "# Sumamos todos los elementos de una lista\n",
        "numeros = [10, 20, 30, 40]\n",
        "suma = 0\n",
        "for numero in numeros:\n",
        "    suma += numero\n",
        "print(f\"La suma total es: {suma}\")  # La suma total es: 100\n"
      ],
      "metadata": {
        "id": "8IgJp4uTgzXg"
      },
      "execution_count": null,
      "outputs": []
    },
    {
      "cell_type": "code",
      "source": [
        "# Recorremos una lista de Strings y los concatenamos en una sola frase\n",
        "palabras = [\"Hola\", \"mundo\", \"Python\", \"es\", \"genial\"]\n",
        "frase = \"\"\n",
        "for palabra in palabras:\n",
        "    frase += palabra + \" \"\n",
        "print(frase.strip())  # El método strip() elimina los espacios adicionales al final\n"
      ],
      "metadata": {
        "id": "F532o2Acg3Fv"
      },
      "execution_count": null,
      "outputs": []
    },
    {
      "cell_type": "code",
      "source": [
        "# Creamos una lista con los cuadrados de los números\n",
        "numeros = [1, 2, 3, 4, 5]\n",
        "cuadrados = []\n",
        "for numero in numeros:\n",
        "    cuadrados.append(numero ** 2)\n",
        "print(cuadrados)  # [1, 4, 9, 16, 25]\n"
      ],
      "metadata": {
        "id": "_rfDT6Qyg6vC"
      },
      "execution_count": null,
      "outputs": []
    },
    {
      "cell_type": "code",
      "source": [
        "# Recorremos una lista y solo imprimimos los números pares\n",
        "numeros = [10, 15, 20, 25, 30]\n",
        "for numero in numeros:\n",
        "    if numero % 2 == 0:\n",
        "        print(f\"{numero} es par.\")\n"
      ],
      "metadata": {
        "id": "wLzyP3Nug-rY"
      },
      "execution_count": null,
      "outputs": []
    },
    {
      "cell_type": "code",
      "source": [
        "# Recorremos una lista que contiene listas (lista de una dimensión que incluye listas)\n",
        "matriz = [[1, 2, 3], [4, 5, 6], [7, 8, 9]]\n",
        "for fila in matriz:\n",
        "    for elemento in fila:\n",
        "        print(elemento, end=\" \")\n",
        "    print()  # Para imprimir una nueva línea después de cada fila\n"
      ],
      "metadata": {
        "id": "wDwEFafHhCzd"
      },
      "execution_count": null,
      "outputs": []
    },
    {
      "cell_type": "code",
      "source": [
        "# Matriz de ejemplo\n",
        "matriz = [[1, 2, 3], [4, 5, 6], [7, 8, 9]]\n",
        "\n",
        "# Suma de la diagonal principal (elementos en posiciones [0][0], [1][1], [2][2])\n",
        "suma_diagonal = 0\n",
        "for i in range(len(matriz)):\n",
        "    suma_diagonal += matriz[i][i]\n",
        "\n",
        "print(f\"Suma de la diagonal principal: {suma_diagonal}\")  # 1 + 5 + 9 = 15\n",
        "\n",
        "# Suma de todos los elementos de la matriz\n",
        "suma_total = 0\n",
        "for fila in matriz:\n",
        "    for elemento in fila:\n",
        "        suma_total += elemento\n",
        "\n",
        "print(f\"Suma de todos los elementos de la matriz: {suma_total}\")  # 45\n",
        "\n",
        "# Obtener el número máximo y mínimo de la matriz\n",
        "maximo = max(max(fila) for fila in matriz)\n",
        "minimo = min(min(fila) for fila in matriz)\n",
        "\n",
        "print(f\"Valor máximo en la matriz: {maximo}\")  # 9\n",
        "print(f\"Valor mínimo en la matriz: {minimo}\")  # 1\n"
      ],
      "metadata": {
        "id": "V8vacKS4hu1P"
      },
      "execution_count": null,
      "outputs": []
    }
  ]
}